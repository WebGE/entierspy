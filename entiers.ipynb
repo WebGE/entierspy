{
 "cells": [
  {
   "cell_type": "markdown",
   "metadata": {},
   "source": [
    "# Conversions d'entiers -  SUJET"
   ]
  },
  {
   "cell_type": "markdown",
   "metadata": {},
   "source": [
    "**Ressources** : <a href=\"https://webge.synology.me/dokuwiki/doku.php?id=informatique:represdonnees\" target=\"_blank\"><input type=\"button\" value=\"Représentation des données\"></a> <a href=\"https://webge.synology.me/dokuwiki/doku.php?id=python:accueilpython\" target=\"_blank\"><input type=\"button\" value=\"Wiki Python sur WebGE\"></a>\n",
    "<a href=\"http://p.mariano.free.fr/doc/1nsi/tp/1NSI_Donnnes_Entiers_DR_Notebook.zip\" target=\"_blank\"><input type=\"button\" value=\"Document réponse\"></a>"
   ]
  },
  {
   "cell_type": "markdown",
   "metadata": {},
   "source": [
    "**Sommaire**\n",
    "* 1. Présentation\n",
    "* 2. Exercices\n",
    "* 2.1 Conversions binaire <-> hexadécimal\n",
    "* 2.2 Conversion binaire -> décimal\n",
    "* 2.3 Nombre de bits pour coder un nombre décimal en binaire (complément à 2) ?\n",
    "* 2.4 Conversion binaire (complément à 2) -> décimal "
   ]
  },
  {
   "cell_type": "markdown",
   "metadata": {},
   "source": [
    "## 1. Présentation\n",
    "\n",
    "<table>\n",
    "    <tr>\n",
    "        <td style=\"text-align:justify; font-size:14px;\">Pour manipuler des séquences de <strong>bits</strong>, de longueur arbitraire, on utilise la notation <strong>0b</strong> devant le nombre binaire. Pour manipuler une valeur hexadécimale, on l'a fait précédée de <strong>0x</strong>. <br> <br> Python dispose également des fonctions built-in (natives) <strong>bin()</strong> et <strong>hex()</strong> pour convertir des valeurs en base 2 et en base 16.</td>\n",
    "        <td width=\"20%\"><img src=\"img/octeb2.jpg\"></td>\n",
    "    </tr>\n",
    "</table>"
   ]
  },
  {
   "cell_type": "code",
   "execution_count": null,
   "metadata": {},
   "outputs": [],
   "source": [
    "# Exemples\n",
    "print(hex(0b01010101010101))\n",
    "print(bin(0x1234))"
   ]
  },
  {
   "cell_type": "markdown",
   "metadata": {},
   "source": [
    "## 2. Exercices"
   ]
  },
  {
   "cell_type": "markdown",
   "metadata": {},
   "source": [
    "### 2.1 Conversions binaire <-> hexadécimal"
   ]
  },
  {
   "cell_type": "markdown",
   "metadata": {},
   "source": [
    "> **Activité 1.** Convertissez 16FE<sub>16</sub> en binaire et 00001101111010011<sub>2</sub> en hexadécimal sur le **document réponse**. Formatez votre réponse sur 2 octets. Vérifiez vos résultats avec les fonctions built-in **bin()** et **hex()**."
   ]
  },
  {
   "cell_type": "code",
   "execution_count": null,
   "metadata": {},
   "outputs": [],
   "source": [
    "# Vérification\n",
    "# A compléter\n"
   ]
  },
  {
   "cell_type": "markdown",
   "metadata": {},
   "source": [
    "### 2.2 Conversion binaire -> décimal"
   ]
  },
  {
   "cell_type": "markdown",
   "metadata": {},
   "source": [
    "> **Activité 2.** Ecrivez une fonction *entier(b)* qui convertit en base 10 un nombre binaire b donné sous la forme d'un tableau de taille quelconque ne contenant que des chiffres 0 et 1, et tel que le bit de **poids fort** se trouve dans la case d'indice 0. Le nombre n est supposé représenter un nombre positif.\n",
    ">\n",
    ">*Résultat attendu pour b=[1,0,0,0,1,1,1,1]* <br>\n",
    "> Valeur affichée : 143"
   ]
  },
  {
   "cell_type": "code",
   "execution_count": null,
   "metadata": {},
   "outputs": [],
   "source": [
    "# A compléter\n",
    "def entier(b:list)->int:\n",
    "    pass\n",
    "\n",
    "b=[1,0,0,0,1,1,1,1]\n",
    "entier(b)"
   ]
  },
  {
   "cell_type": "markdown",
   "metadata": {},
   "source": [
    "### 2.3 Nombre de bits pour coder un nombre décimal en binaire (complément à 2) ?\n",
    "\n",
    "**Ressource** : <a href=\"https://webge.synology.me/dokuwiki/doku.php?id=informatique:represdonnees\" target=\"_blank\"><input type=\"button\" value=\"Wiki Représentation des données\"></a>"
   ]
  },
  {
   "cell_type": "markdown",
   "metadata": {},
   "source": [
    "> **Activité 3.** Combien de bits sont nécessaires pour coder 12695 et -459872 en **complément à 2** ? Rédigez sur le **document réponse**. Vérifiez avec la fonction buit-in **bin()**"
   ]
  },
  {
   "cell_type": "code",
   "execution_count": null,
   "metadata": {},
   "outputs": [],
   "source": [
    "# Vérification\n",
    "# A compléter\n"
   ]
  },
  {
   "cell_type": "markdown",
   "metadata": {},
   "source": [
    "> **Activité 4.** Ecrivez une fonction *nb_bits(n)* qui renvoie le nombre de bits utilisés pour coder un nombre binaire en **complément à 2**.<br>\n",
    ">\n",
    ">*Résultat attendu pour n = -459872* <br>\n",
    ">Texte affiché : Il faut 20 bit(s) pour coder -459872"
   ]
  },
  {
   "cell_type": "code",
   "execution_count": null,
   "metadata": {},
   "outputs": [],
   "source": [
    "# A compléter\n",
    "def nb_bits(n:int)->int:\n",
    "    pass"
   ]
  },
  {
   "cell_type": "markdown",
   "metadata": {},
   "source": [
    "### 2.4 Conversion binaire (complément à 2) -> décimal\n",
    "\n",
    "**Ressource** : <a href=\"https://webge.synology.me/dokuwiki/doku.php?id=informatique:represdonnees\" target=\"_blank\"><input type=\"button\" value=\"Wiki Représentation des données\"></a>"
   ]
  },
  {
   "cell_type": "markdown",
   "metadata": {},
   "source": [
    "> **Activité 5a.** Ecrivez l'**algorithme** d'une fonction *complementa2(b)* qui calcule le complément à 2 d'un nombre binaire <html>N = b<sub>n-1</sub> b<sub>n-2</sub>,..., b<sub>0</sub></html> stocké dans un tableau *b* contenant uniquement les chiffres 0 et 1. La fonction renverra un nouveau tableau de même taille que b. <br> Rédigez sur le **document réponse**."
   ]
  },
  {
   "cell_type": "markdown",
   "metadata": {},
   "source": [
    "> **Activité 5b.** Codez la fonction *complementa2(b)* et utilisez-la pour convertir en décimal un nombre binaire codé en complément à 2. <br>\n",
    ">\n",
    "> *Résultat attendu pour  N<sub>2</sub> = 10001111 c'est à dire b=[1,0,0,0,1,1,1,1]* <br>\n",
    "> *Texte affiché* <br>\n",
    "> *Compément à 2 => [0, 1, 1, 1, 0, 0, 0, 1 ]*<br>\n",
    "> *La valeur décimale de N est égal à -113*\n",
    "\n",
    "__Notes__ <br>\n",
    "Pour parcourir un tableau tab dans l'ordre croissant de ses indices i : for i in range(len(tab)) <br>\n",
    "Pour parcourir un tableau tab dans l'ordre décroissant de ses indices i : for i in range(-1,-(len(tab)+1),-1) "
   ]
  },
  {
   "cell_type": "code",
   "execution_count": null,
   "metadata": {},
   "outputs": [],
   "source": [
    "# A compléter\n",
    "def complementa2(b:list)->int:\n",
    "    pass\n",
    "\n",
    "b=[1,0,0,0,1,1,1,1]\n",
    "print(\"Compément à 2 =>\",complementa2(b))"
   ]
  },
  {
   "cell_type": "code",
   "execution_count": null,
   "metadata": {},
   "outputs": [],
   "source": []
  }
 ],
 "metadata": {
  "kernelspec": {
   "display_name": "Python 3",
   "language": "python",
   "name": "python3"
  },
  "language_info": {
   "codemirror_mode": {
    "name": "ipython",
    "version": 3
   },
   "file_extension": ".py",
   "mimetype": "text/x-python",
   "name": "python",
   "nbconvert_exporter": "python",
   "pygments_lexer": "ipython3",
   "version": "3.8.5"
  }
 },
 "nbformat": 4,
 "nbformat_minor": 4
}
